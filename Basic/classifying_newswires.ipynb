{
  "nbformat": 4,
  "nbformat_minor": 0,
  "metadata": {
    "colab": {
      "name": "classifying-newswires",
      "version": "0.3.2",
      "provenance": []
    },
    "kernelspec": {
      "name": "python3",
      "display_name": "Python 3"
    },
    "accelerator": "GPU"
  },
  "cells": [
    {
      "cell_type": "code",
      "metadata": {
        "id": "D1cblUxcyca8",
        "colab_type": "code",
        "colab": {
          "base_uri": "https://localhost:8080/",
          "height": 52
        },
        "outputId": "b78ac8e7-bbb0-4047-8532-3a2f199d8e22"
      },
      "source": [
        "import keras\n",
        "keras.__version__"
      ],
      "execution_count": 1,
      "outputs": [
        {
          "output_type": "stream",
          "text": [
            "Using TensorFlow backend.\n"
          ],
          "name": "stderr"
        },
        {
          "output_type": "execute_result",
          "data": {
            "text/plain": [
              "'2.2.5'"
            ]
          },
          "metadata": {
            "tags": []
          },
          "execution_count": 1
        }
      ]
    },
    {
      "cell_type": "code",
      "metadata": {
        "id": "GCYLFoh_0C2q",
        "colab_type": "code",
        "colab": {
          "base_uri": "https://localhost:8080/",
          "height": 52
        },
        "outputId": "3a302584-f7d1-451a-b858-9fc5aa9cc1d1"
      },
      "source": [
        "from keras.datasets import reuters\n",
        "\n",
        "(train_data, train_labels), (test_data, test_labels) = reuters.load_data(num_words=10000)"
      ],
      "execution_count": 2,
      "outputs": [
        {
          "output_type": "stream",
          "text": [
            "Downloading data from https://s3.amazonaws.com/text-datasets/reuters.npz\n",
            "2113536/2110848 [==============================] - 1s 1us/step\n"
          ],
          "name": "stdout"
        }
      ]
    },
    {
      "cell_type": "code",
      "metadata": {
        "id": "SFTbZGZ80VmE",
        "colab_type": "code",
        "colab": {
          "base_uri": "https://localhost:8080/",
          "height": 34
        },
        "outputId": "2b8a26dd-11f0-4a76-dbcf-da62eb8c9da8"
      },
      "source": [
        "len(train_data)"
      ],
      "execution_count": 3,
      "outputs": [
        {
          "output_type": "execute_result",
          "data": {
            "text/plain": [
              "8982"
            ]
          },
          "metadata": {
            "tags": []
          },
          "execution_count": 3
        }
      ]
    },
    {
      "cell_type": "code",
      "metadata": {
        "id": "IMhU3IhE0ZzA",
        "colab_type": "code",
        "colab": {
          "base_uri": "https://localhost:8080/",
          "height": 34
        },
        "outputId": "1b28b5a5-55d3-4f10-9baf-416f454b95d0"
      },
      "source": [
        "len(test_data)"
      ],
      "execution_count": 4,
      "outputs": [
        {
          "output_type": "execute_result",
          "data": {
            "text/plain": [
              "2246"
            ]
          },
          "metadata": {
            "tags": []
          },
          "execution_count": 4
        }
      ]
    },
    {
      "cell_type": "code",
      "metadata": {
        "id": "JY5CFJcU0bI8",
        "colab_type": "code",
        "colab": {
          "base_uri": "https://localhost:8080/",
          "height": 555
        },
        "outputId": "62758508-a542-43c8-b39a-5c7e4fbf7b7e"
      },
      "source": [
        "train_data[10]"
      ],
      "execution_count": 5,
      "outputs": [
        {
          "output_type": "execute_result",
          "data": {
            "text/plain": [
              "[1,\n",
              " 245,\n",
              " 273,\n",
              " 207,\n",
              " 156,\n",
              " 53,\n",
              " 74,\n",
              " 160,\n",
              " 26,\n",
              " 14,\n",
              " 46,\n",
              " 296,\n",
              " 26,\n",
              " 39,\n",
              " 74,\n",
              " 2979,\n",
              " 3554,\n",
              " 14,\n",
              " 46,\n",
              " 4689,\n",
              " 4329,\n",
              " 86,\n",
              " 61,\n",
              " 3499,\n",
              " 4795,\n",
              " 14,\n",
              " 61,\n",
              " 451,\n",
              " 4329,\n",
              " 17,\n",
              " 12]"
            ]
          },
          "metadata": {
            "tags": []
          },
          "execution_count": 5
        }
      ]
    },
    {
      "cell_type": "code",
      "metadata": {
        "id": "ffdvIku_0dZf",
        "colab_type": "code",
        "colab": {
          "base_uri": "https://localhost:8080/",
          "height": 52
        },
        "outputId": "79b36ea0-0cf1-4f7e-ea2f-e88a1e0eb709"
      },
      "source": [
        "word_index = reuters.get_word_index()\n",
        "reverse_word_index = dict([(value, key) for (key, value) in word_index.items()])\n",
        "decoded_newswire = ' '.join([reverse_word_index.get(i - 3, '?') for i in train_data[0]])"
      ],
      "execution_count": 6,
      "outputs": [
        {
          "output_type": "stream",
          "text": [
            "Downloading data from https://s3.amazonaws.com/text-datasets/reuters_word_index.json\n",
            "557056/550378 [==============================] - 1s 2us/step\n"
          ],
          "name": "stdout"
        }
      ]
    },
    {
      "cell_type": "code",
      "metadata": {
        "id": "z__ARGgz0hjZ",
        "colab_type": "code",
        "colab": {
          "base_uri": "https://localhost:8080/",
          "height": 54
        },
        "outputId": "498e537c-d371-4072-8422-f9d1de10ac70"
      },
      "source": [
        "decoded_newswire"
      ],
      "execution_count": 7,
      "outputs": [
        {
          "output_type": "execute_result",
          "data": {
            "text/plain": [
              "'? ? ? said as a result of its december acquisition of space co it expects earnings per share in 1987 of 1 15 to 1 30 dlrs per share up from 70 cts in 1986 the company said pretax net should rise to nine to 10 mln dlrs from six mln dlrs in 1986 and rental operation revenues to 19 to 22 mln dlrs from 12 5 mln dlrs it said cash flow per share this year should be 2 50 to three dlrs reuter 3'"
            ]
          },
          "metadata": {
            "tags": []
          },
          "execution_count": 7
        }
      ]
    },
    {
      "cell_type": "code",
      "metadata": {
        "id": "40G848oo0kIh",
        "colab_type": "code",
        "colab": {
          "base_uri": "https://localhost:8080/",
          "height": 34
        },
        "outputId": "d9777445-39a8-4c51-fd17-187e1cca19fc"
      },
      "source": [
        "train_labels[10]"
      ],
      "execution_count": 8,
      "outputs": [
        {
          "output_type": "execute_result",
          "data": {
            "text/plain": [
              "3"
            ]
          },
          "metadata": {
            "tags": []
          },
          "execution_count": 8
        }
      ]
    },
    {
      "cell_type": "code",
      "metadata": {
        "id": "Hi0vAZFE0mG_",
        "colab_type": "code",
        "colab": {}
      },
      "source": [
        "import numpy as np\n",
        "\n",
        "def vectorize_sequences(sequences, dimension=10000):\n",
        "    results = np.zeros((len(sequences), dimension))\n",
        "    for i, sequence in enumerate(sequences):\n",
        "        results[i, sequence] = 1.\n",
        "    return results\n",
        "\n",
        "x_train = vectorize_sequences(train_data)\n",
        "x_test = vectorize_sequences(test_data)"
      ],
      "execution_count": 0,
      "outputs": []
    },
    {
      "cell_type": "code",
      "metadata": {
        "id": "Z6GN0bIZ0qAz",
        "colab_type": "code",
        "colab": {}
      },
      "source": [
        "def to_one_hot(labels, dimension=46):\n",
        "    results = np.zeros((len(labels), dimension))\n",
        "    for i, label in enumerate(labels):\n",
        "        results[i, label] = 1.\n",
        "    return results\n",
        "\n",
        "one_hot_train_labels = to_one_hot(train_labels)\n",
        "one_hot_test_labels = to_one_hot(test_labels)"
      ],
      "execution_count": 0,
      "outputs": []
    },
    {
      "cell_type": "code",
      "metadata": {
        "id": "pVrIPv4F00cQ",
        "colab_type": "code",
        "colab": {}
      },
      "source": [
        "from keras.utils.np_utils import to_categorical\n",
        "\n",
        "one_hot_train_labels = to_categorical(train_labels)\n",
        "one_hot_test_labels = to_categorical(test_labels)"
      ],
      "execution_count": 0,
      "outputs": []
    },
    {
      "cell_type": "code",
      "metadata": {
        "id": "c06IICRK039q",
        "colab_type": "code",
        "colab": {
          "base_uri": "https://localhost:8080/",
          "height": 141
        },
        "outputId": "f06a96f4-2563-47aa-c1ff-f3200212241e"
      },
      "source": [
        "from keras import models\n",
        "from keras import layers\n",
        "\n",
        "model = models.Sequential()\n",
        "model.add(layers.Dense(64, activation='relu', input_shape=(10000,)))\n",
        "model.add(layers.Dense(64, activation='relu'))\n",
        "model.add(layers.Dense(46, activation='softmax'))"
      ],
      "execution_count": 12,
      "outputs": [
        {
          "output_type": "stream",
          "text": [
            "WARNING:tensorflow:From /usr/local/lib/python3.6/dist-packages/keras/backend/tensorflow_backend.py:66: The name tf.get_default_graph is deprecated. Please use tf.compat.v1.get_default_graph instead.\n",
            "\n",
            "WARNING:tensorflow:From /usr/local/lib/python3.6/dist-packages/keras/backend/tensorflow_backend.py:541: The name tf.placeholder is deprecated. Please use tf.compat.v1.placeholder instead.\n",
            "\n",
            "WARNING:tensorflow:From /usr/local/lib/python3.6/dist-packages/keras/backend/tensorflow_backend.py:4432: The name tf.random_uniform is deprecated. Please use tf.random.uniform instead.\n",
            "\n"
          ],
          "name": "stdout"
        }
      ]
    },
    {
      "cell_type": "code",
      "metadata": {
        "id": "nDMBS6wc1Lta",
        "colab_type": "code",
        "colab": {
          "base_uri": "https://localhost:8080/",
          "height": 106
        },
        "outputId": "8b8141e3-829b-41e0-dd5b-b7592bf7752c"
      },
      "source": [
        "model.compile(optimizer='rmsprop',loss='categorical_crossentropy',metrics=['accuracy'])"
      ],
      "execution_count": 13,
      "outputs": [
        {
          "output_type": "stream",
          "text": [
            "WARNING:tensorflow:From /usr/local/lib/python3.6/dist-packages/keras/optimizers.py:793: The name tf.train.Optimizer is deprecated. Please use tf.compat.v1.train.Optimizer instead.\n",
            "\n",
            "WARNING:tensorflow:From /usr/local/lib/python3.6/dist-packages/keras/backend/tensorflow_backend.py:3576: The name tf.log is deprecated. Please use tf.math.log instead.\n",
            "\n"
          ],
          "name": "stdout"
        }
      ]
    },
    {
      "cell_type": "code",
      "metadata": {
        "id": "K7Af_Rw21aB6",
        "colab_type": "code",
        "colab": {}
      },
      "source": [
        "x_val = x_train[:1000]\n",
        "partial_x_train = x_train[1000:]\n",
        "\n",
        "y_val = one_hot_train_labels[:1000]\n",
        "partial_y_train = one_hot_train_labels[1000:]"
      ],
      "execution_count": 0,
      "outputs": []
    },
    {
      "cell_type": "code",
      "metadata": {
        "id": "uDj8_mMn1c1C",
        "colab_type": "code",
        "colab": {
          "base_uri": "https://localhost:8080/",
          "height": 836
        },
        "outputId": "d0dd38d9-0186-4aac-c1b1-871a901c51be"
      },
      "source": [
        "history = model.fit(partial_x_train, partial_y_train, epochs=20, batch_size=512, validation_data=(x_val, y_val))"
      ],
      "execution_count": 15,
      "outputs": [
        {
          "output_type": "stream",
          "text": [
            "WARNING:tensorflow:From /usr/local/lib/python3.6/dist-packages/tensorflow/python/ops/math_grad.py:1250: add_dispatch_support.<locals>.wrapper (from tensorflow.python.ops.array_ops) is deprecated and will be removed in a future version.\n",
            "Instructions for updating:\n",
            "Use tf.where in 2.0, which has the same broadcast rule as np.where\n",
            "WARNING:tensorflow:From /usr/local/lib/python3.6/dist-packages/keras/backend/tensorflow_backend.py:1033: The name tf.assign_add is deprecated. Please use tf.compat.v1.assign_add instead.\n",
            "\n",
            "Train on 7982 samples, validate on 1000 samples\n",
            "Epoch 1/20\n",
            "7982/7982 [==============================] - 5s 606us/step - loss: 2.6310 - acc: 0.5160 - val_loss: 1.7490 - val_acc: 0.6150\n",
            "Epoch 2/20\n",
            "7982/7982 [==============================] - 1s 71us/step - loss: 1.4180 - acc: 0.7036 - val_loss: 1.2992 - val_acc: 0.7230\n",
            "Epoch 3/20\n",
            "7982/7982 [==============================] - 1s 74us/step - loss: 1.0414 - acc: 0.7789 - val_loss: 1.1348 - val_acc: 0.7250\n",
            "Epoch 4/20\n",
            "7982/7982 [==============================] - 1s 66us/step - loss: 0.8137 - acc: 0.8262 - val_loss: 1.0159 - val_acc: 0.7870\n",
            "Epoch 5/20\n",
            "7982/7982 [==============================] - 1s 68us/step - loss: 0.6423 - acc: 0.8668 - val_loss: 0.9627 - val_acc: 0.8010\n",
            "Epoch 6/20\n",
            "7982/7982 [==============================] - 1s 69us/step - loss: 0.5087 - acc: 0.8958 - val_loss: 0.9015 - val_acc: 0.8110\n",
            "Epoch 7/20\n",
            "7982/7982 [==============================] - 1s 68us/step - loss: 0.4058 - acc: 0.9157 - val_loss: 0.8827 - val_acc: 0.8210\n",
            "Epoch 8/20\n",
            "7982/7982 [==============================] - 1s 69us/step - loss: 0.3272 - acc: 0.9312 - val_loss: 0.8917 - val_acc: 0.8190\n",
            "Epoch 9/20\n",
            "7982/7982 [==============================] - 1s 66us/step - loss: 0.2725 - acc: 0.9404 - val_loss: 0.8703 - val_acc: 0.8170\n",
            "Epoch 10/20\n",
            "7982/7982 [==============================] - 1s 68us/step - loss: 0.2341 - acc: 0.9448 - val_loss: 0.8879 - val_acc: 0.8210\n",
            "Epoch 11/20\n",
            "7982/7982 [==============================] - 1s 68us/step - loss: 0.1989 - acc: 0.9518 - val_loss: 0.9137 - val_acc: 0.8200\n",
            "Epoch 12/20\n",
            "7982/7982 [==============================] - 1s 67us/step - loss: 0.1784 - acc: 0.9510 - val_loss: 0.9270 - val_acc: 0.8220\n",
            "Epoch 13/20\n",
            "7982/7982 [==============================] - 1s 67us/step - loss: 0.1617 - acc: 0.9520 - val_loss: 0.9632 - val_acc: 0.8120\n",
            "Epoch 14/20\n",
            "7982/7982 [==============================] - 1s 68us/step - loss: 0.1444 - acc: 0.9565 - val_loss: 1.0356 - val_acc: 0.8060\n",
            "Epoch 15/20\n",
            "7982/7982 [==============================] - 1s 67us/step - loss: 0.1360 - acc: 0.9573 - val_loss: 0.9877 - val_acc: 0.8170\n",
            "Epoch 16/20\n",
            "7982/7982 [==============================] - 1s 66us/step - loss: 0.1305 - acc: 0.9562 - val_loss: 0.9715 - val_acc: 0.8220\n",
            "Epoch 17/20\n",
            "7982/7982 [==============================] - 1s 67us/step - loss: 0.1215 - acc: 0.9558 - val_loss: 1.0131 - val_acc: 0.8190\n",
            "Epoch 18/20\n",
            "7982/7982 [==============================] - 1s 68us/step - loss: 0.1182 - acc: 0.9577 - val_loss: 1.0066 - val_acc: 0.8120\n",
            "Epoch 19/20\n",
            "7982/7982 [==============================] - 1s 69us/step - loss: 0.1121 - acc: 0.9578 - val_loss: 1.0827 - val_acc: 0.8110\n",
            "Epoch 20/20\n",
            "7982/7982 [==============================] - 1s 71us/step - loss: 0.1123 - acc: 0.9565 - val_loss: 1.0623 - val_acc: 0.8060\n"
          ],
          "name": "stdout"
        }
      ]
    },
    {
      "cell_type": "code",
      "metadata": {
        "id": "5N_q_Enu1k18",
        "colab_type": "code",
        "colab": {
          "base_uri": "https://localhost:8080/",
          "height": 295
        },
        "outputId": "6abb237a-aba2-4810-e03b-fec5dab50b05"
      },
      "source": [
        "import matplotlib.pyplot as plt\n",
        "\n",
        "loss = history.history['loss']\n",
        "val_loss = history.history['val_loss']\n",
        "\n",
        "epochs = range(1, len(loss) + 1)\n",
        "\n",
        "plt.plot(epochs, loss, 'bo', label='Training loss')\n",
        "plt.plot(epochs, val_loss, 'b', label='Validation loss')\n",
        "plt.title('Training and validation loss')\n",
        "plt.xlabel('Epochs')\n",
        "plt.ylabel('Loss')\n",
        "plt.legend()\n",
        "\n",
        "plt.show()"
      ],
      "execution_count": 16,
      "outputs": [
        {
          "output_type": "display_data",
          "data": {
            "image/png": "[encoded data removed]",
            "text/plain": [
              "<Figure size 432x288 with 1 Axes>"
            ]
          },
          "metadata": {
            "tags": []
          }
        }
      ]
    },
    {
      "cell_type": "code",
      "metadata": {
        "id": "_usElFYO1tzb",
        "colab_type": "code",
        "colab": {
          "base_uri": "https://localhost:8080/",
          "height": 295
        },
        "outputId": "835c25a0-7466-4b89-d660-34cf54890e15"
      },
      "source": [
        "plt.clf()   # clear figure\n",
        "\n",
        "acc = history.history['acc']\n",
        "val_acc = history.history['val_acc']\n",
        "\n",
        "plt.plot(epochs, acc, 'bo', label='Training acc')\n",
        "plt.plot(epochs, val_acc, 'b', label='Validation acc')\n",
        "plt.title('Training and validation accuracy')\n",
        "plt.xlabel('Epochs')\n",
        "plt.ylabel('Loss')\n",
        "plt.legend()\n",
        "\n",
        "plt.show()"
      ],
      "execution_count": 17,
      "outputs": [
        {
          "output_type": "display_data",
          "data": {
            "image/png": "[encoded data removed]",
            "text/plain": [
              "<Figure size 432x288 with 1 Axes>"
            ]
          },
          "metadata": {
            "tags": []
          }
        }
      ]
    },
    {
      "cell_type": "code",
      "metadata": {
        "id": "3uCWvbeT1y95",
        "colab_type": "code",
        "colab": {
          "base_uri": "https://localhost:8080/",
          "height": 330
        },
        "outputId": "f6e5cee7-1c6f-4763-db05-10c1dd6e6a2e"
      },
      "source": [
        "model = models.Sequential()\n",
        "model.add(layers.Dense(64, activation='relu', input_shape=(10000,)))\n",
        "model.add(layers.Dense(64, activation='relu'))\n",
        "model.add(layers.Dense(46, activation='softmax'))\n",
        "\n",
        "model.compile(optimizer='rmsprop',\n",
        "              loss='categorical_crossentropy',\n",
        "              metrics=['accuracy'])\n",
        "model.fit(partial_x_train,\n",
        "          partial_y_train,\n",
        "          epochs=8,\n",
        "          batch_size=512,\n",
        "          validation_data=(x_val, y_val))\n",
        "results = model.evaluate(x_test, one_hot_test_labels)"
      ],
      "execution_count": 18,
      "outputs": [
        {
          "output_type": "stream",
          "text": [
            "Train on 7982 samples, validate on 1000 samples\n",
            "Epoch 1/8\n",
            "7982/7982 [==============================] - 1s 98us/step - loss: 2.7251 - acc: 0.5177 - val_loss: 1.7578 - val_acc: 0.6390\n",
            "Epoch 2/8\n",
            "7982/7982 [==============================] - 1s 69us/step - loss: 1.4242 - acc: 0.7050 - val_loss: 1.2974 - val_acc: 0.7120\n",
            "Epoch 3/8\n",
            "7982/7982 [==============================] - 1s 69us/step - loss: 1.0412 - acc: 0.7726 - val_loss: 1.1194 - val_acc: 0.7530\n",
            "Epoch 4/8\n",
            "7982/7982 [==============================] - 1s 69us/step - loss: 0.8103 - acc: 0.8218 - val_loss: 1.0321 - val_acc: 0.7710\n",
            "Epoch 5/8\n",
            "7982/7982 [==============================] - 1s 69us/step - loss: 0.6412 - acc: 0.8632 - val_loss: 0.9519 - val_acc: 0.7990\n",
            "Epoch 6/8\n",
            "7982/7982 [==============================] - 1s 70us/step - loss: 0.5098 - acc: 0.8936 - val_loss: 0.9564 - val_acc: 0.7860\n",
            "Epoch 7/8\n",
            "7982/7982 [==============================] - 1s 71us/step - loss: 0.4042 - acc: 0.9174 - val_loss: 0.8955 - val_acc: 0.8240\n",
            "Epoch 8/8\n",
            "7982/7982 [==============================] - 1s 69us/step - loss: 0.3275 - acc: 0.9317 - val_loss: 0.8893 - val_acc: 0.8220\n",
            "2246/2246 [==============================] - 0s 93us/step\n"
          ],
          "name": "stdout"
        }
      ]
    },
    {
      "cell_type": "code",
      "metadata": {
        "id": "l9AeZvSI1-E0",
        "colab_type": "code",
        "colab": {
          "base_uri": "https://localhost:8080/",
          "height": 34
        },
        "outputId": "bfe17226-ad5f-4ca4-8cd4-ddcf4058414c"
      },
      "source": [
        "results"
      ],
      "execution_count": 19,
      "outputs": [
        {
          "output_type": "execute_result",
          "data": {
            "text/plain": [
              "[0.9646809735896857, 0.7880676759212865]"
            ]
          },
          "metadata": {
            "tags": []
          },
          "execution_count": 19
        }
      ]
    },
    {
      "cell_type": "code",
      "metadata": {
        "id": "9OcFe71U2DOX",
        "colab_type": "code",
        "colab": {
          "base_uri": "https://localhost:8080/",
          "height": 34
        },
        "outputId": "1cd2d24c-cfed-459d-e1ed-377de1c2ad29"
      },
      "source": [
        "import copy\n",
        "\n",
        "test_labels_copy = copy.copy(test_labels)\n",
        "np.random.shuffle(test_labels_copy)\n",
        "float(np.sum(np.array(test_labels) == np.array(test_labels_copy))) / len(test_labels)"
      ],
      "execution_count": 20,
      "outputs": [
        {
          "output_type": "execute_result",
          "data": {
            "text/plain": [
              "0.20525378450578807"
            ]
          },
          "metadata": {
            "tags": []
          },
          "execution_count": 20
        }
      ]
    },
    {
      "cell_type": "code",
      "metadata": {
        "id": "0u8_Wz9c2NB7",
        "colab_type": "code",
        "colab": {}
      },
      "source": [
        "predictions = model.predict(x_test)"
      ],
      "execution_count": 0,
      "outputs": []
    },
    {
      "cell_type": "code",
      "metadata": {
        "id": "Qj5mxFmf2P0d",
        "colab_type": "code",
        "colab": {
          "base_uri": "https://localhost:8080/",
          "height": 34
        },
        "outputId": "8e3b154f-b8ba-4cd9-ea00-3a4ab3b056ca"
      },
      "source": [
        "predictions[0].shape"
      ],
      "execution_count": 22,
      "outputs": [
        {
          "output_type": "execute_result",
          "data": {
            "text/plain": [
              "(46,)"
            ]
          },
          "metadata": {
            "tags": []
          },
          "execution_count": 22
        }
      ]
    },
    {
      "cell_type": "code",
      "metadata": {
        "id": "wBEC7ZHf2RK3",
        "colab_type": "code",
        "colab": {
          "base_uri": "https://localhost:8080/",
          "height": 34
        },
        "outputId": "ac2f61cf-e75f-47b3-c7b3-3e3c42745359"
      },
      "source": [
        "np.sum(predictions[0])"
      ],
      "execution_count": 23,
      "outputs": [
        {
          "output_type": "execute_result",
          "data": {
            "text/plain": [
              "0.9999998"
            ]
          },
          "metadata": {
            "tags": []
          },
          "execution_count": 23
        }
      ]
    },
    {
      "cell_type": "code",
      "metadata": {
        "id": "rQw_U46n2S1E",
        "colab_type": "code",
        "colab": {
          "base_uri": "https://localhost:8080/",
          "height": 34
        },
        "outputId": "57376192-ce43-43f9-c5e6-b0ef20182363"
      },
      "source": [
        "np.argmax(predictions[0])"
      ],
      "execution_count": 24,
      "outputs": [
        {
          "output_type": "execute_result",
          "data": {
            "text/plain": [
              "3"
            ]
          },
          "metadata": {
            "tags": []
          },
          "execution_count": 24
        }
      ]
    },
    {
      "cell_type": "code",
      "metadata": {
        "id": "IAqJmHE22U3F",
        "colab_type": "code",
        "colab": {}
      },
      "source": [
        "y_train = np.array(train_labels)\n",
        "y_test = np.array(test_labels)"
      ],
      "execution_count": 0,
      "outputs": []
    },
    {
      "cell_type": "code",
      "metadata": {
        "id": "fx-UkO8D2YKn",
        "colab_type": "code",
        "colab": {}
      },
      "source": [
        "model.compile(optimizer='rmsprop', loss='sparse_categorical_crossentropy', metrics=['acc'])"
      ],
      "execution_count": 0,
      "outputs": []
    },
    {
      "cell_type": "code",
      "metadata": {
        "id": "sIy4o5Wm2d2v",
        "colab_type": "code",
        "colab": {
          "base_uri": "https://localhost:8080/",
          "height": 746
        },
        "outputId": "82d75015-361d-4da4-d8f9-9f231677d120"
      },
      "source": [
        "model = models.Sequential()\n",
        "model.add(layers.Dense(64, activation='relu', input_shape=(10000,)))\n",
        "model.add(layers.Dense(4, activation='relu'))\n",
        "model.add(layers.Dense(46, activation='softmax'))\n",
        "\n",
        "model.compile(optimizer='rmsprop',\n",
        "              loss='categorical_crossentropy',\n",
        "              metrics=['accuracy'])\n",
        "model.fit(partial_x_train,\n",
        "          partial_y_train,\n",
        "          epochs=20,\n",
        "          batch_size=128,\n",
        "          validation_data=(x_val, y_val))"
      ],
      "execution_count": 27,
      "outputs": [
        {
          "output_type": "stream",
          "text": [
            "Train on 7982 samples, validate on 1000 samples\n",
            "Epoch 1/20\n",
            "7982/7982 [==============================] - 1s 116us/step - loss: 2.4163 - acc: 0.4911 - val_loss: 1.8496 - val_acc: 0.5600\n",
            "Epoch 2/20\n",
            "7982/7982 [==============================] - 1s 84us/step - loss: 1.6850 - acc: 0.5658 - val_loss: 1.6163 - val_acc: 0.5860\n",
            "Epoch 3/20\n",
            "7982/7982 [==============================] - 1s 82us/step - loss: 1.4427 - acc: 0.6106 - val_loss: 1.4965 - val_acc: 0.6160\n",
            "Epoch 4/20\n",
            "7982/7982 [==============================] - 1s 81us/step - loss: 1.2655 - acc: 0.6332 - val_loss: 1.4104 - val_acc: 0.6200\n",
            "Epoch 5/20\n",
            "7982/7982 [==============================] - 1s 81us/step - loss: 1.1124 - acc: 0.6934 - val_loss: 1.3642 - val_acc: 0.6800\n",
            "Epoch 6/20\n",
            "7982/7982 [==============================] - 1s 85us/step - loss: 0.9846 - acc: 0.7407 - val_loss: 1.3379 - val_acc: 0.6860\n",
            "Epoch 7/20\n",
            "7982/7982 [==============================] - 1s 81us/step - loss: 0.8822 - acc: 0.7551 - val_loss: 1.3108 - val_acc: 0.6900\n",
            "Epoch 8/20\n",
            "7982/7982 [==============================] - 1s 84us/step - loss: 0.7984 - acc: 0.7669 - val_loss: 1.3503 - val_acc: 0.6900\n",
            "Epoch 9/20\n",
            "7982/7982 [==============================] - 1s 82us/step - loss: 0.7280 - acc: 0.7902 - val_loss: 1.3597 - val_acc: 0.6900\n",
            "Epoch 10/20\n",
            "7982/7982 [==============================] - 1s 81us/step - loss: 0.6700 - acc: 0.8059 - val_loss: 1.3805 - val_acc: 0.6910\n",
            "Epoch 11/20\n",
            "7982/7982 [==============================] - 1s 82us/step - loss: 0.6216 - acc: 0.8237 - val_loss: 1.3958 - val_acc: 0.7110\n",
            "Epoch 12/20\n",
            "7982/7982 [==============================] - 1s 84us/step - loss: 0.5815 - acc: 0.8359 - val_loss: 1.4327 - val_acc: 0.7090\n",
            "Epoch 13/20\n",
            "7982/7982 [==============================] - 1s 84us/step - loss: 0.5472 - acc: 0.8438 - val_loss: 1.4867 - val_acc: 0.7010\n",
            "Epoch 14/20\n",
            "7982/7982 [==============================] - 1s 82us/step - loss: 0.5185 - acc: 0.8498 - val_loss: 1.5109 - val_acc: 0.7090\n",
            "Epoch 15/20\n",
            "7982/7982 [==============================] - 1s 87us/step - loss: 0.4930 - acc: 0.8561 - val_loss: 1.5980 - val_acc: 0.7020\n",
            "Epoch 16/20\n",
            "7982/7982 [==============================] - 1s 80us/step - loss: 0.4672 - acc: 0.8643 - val_loss: 1.6282 - val_acc: 0.7050\n",
            "Epoch 17/20\n",
            "7982/7982 [==============================] - 1s 81us/step - loss: 0.4487 - acc: 0.8693 - val_loss: 1.6737 - val_acc: 0.6960\n",
            "Epoch 18/20\n",
            "7982/7982 [==============================] - 1s 80us/step - loss: 0.4297 - acc: 0.8753 - val_loss: 1.7239 - val_acc: 0.7050\n",
            "Epoch 19/20\n",
            "7982/7982 [==============================] - 1s 81us/step - loss: 0.4114 - acc: 0.8806 - val_loss: 1.7582 - val_acc: 0.7020\n",
            "Epoch 20/20\n",
            "7982/7982 [==============================] - 1s 79us/step - loss: 0.3963 - acc: 0.8831 - val_loss: 1.7951 - val_acc: 0.7130\n"
          ],
          "name": "stdout"
        },
        {
          "output_type": "execute_result",
          "data": {
            "text/plain": [
              "<keras.callbacks.History at 0x7f93bc043f98>"
            ]
          },
          "metadata": {
            "tags": []
          },
          "execution_count": 27
        }
      ]
    },
    {
      "cell_type": "code",
      "metadata": {
        "id": "8So1Vgls2tZA",
        "colab_type": "code",
        "colab": {
          "base_uri": "https://localhost:8080/",
          "height": 746
        },
        "outputId": "87cd1735-561d-445c-e76e-31fd779d4e91"
      },
      "source": [
        "model = models.Sequential()\n",
        "model.add(layers.Dense(128, activation='relu', input_shape=(10000,)))\n",
        "model.add(layers.Dense(32, activation='relu'))\n",
        "model.add(layers.Dense(46, activation='softmax'))\n",
        "\n",
        "model.compile(optimizer='rmsprop',\n",
        "              loss='categorical_crossentropy',\n",
        "              metrics=['accuracy'])\n",
        "model.fit(partial_x_train,\n",
        "          partial_y_train,\n",
        "          epochs=20,\n",
        "          batch_size=128,\n",
        "          validation_data=(x_val, y_val))"
      ],
      "execution_count": 28,
      "outputs": [
        {
          "output_type": "stream",
          "text": [
            "Train on 7982 samples, validate on 1000 samples\n",
            "Epoch 1/20\n",
            "7982/7982 [==============================] - 1s 126us/step - loss: 1.7294 - acc: 0.6512 - val_loss: 1.1944 - val_acc: 0.7530\n",
            "Epoch 2/20\n",
            "7982/7982 [==============================] - 1s 90us/step - loss: 0.8553 - acc: 0.8145 - val_loss: 0.9746 - val_acc: 0.7820\n",
            "Epoch 3/20\n",
            "7982/7982 [==============================] - 1s 94us/step - loss: 0.5476 - acc: 0.8866 - val_loss: 0.8504 - val_acc: 0.8240\n",
            "Epoch 4/20\n",
            "7982/7982 [==============================] - 1s 90us/step - loss: 0.3757 - acc: 0.9222 - val_loss: 0.8567 - val_acc: 0.8210\n",
            "Epoch 5/20\n",
            "7982/7982 [==============================] - 1s 92us/step - loss: 0.2727 - acc: 0.9376 - val_loss: 0.8903 - val_acc: 0.8200\n",
            "Epoch 6/20\n",
            "7982/7982 [==============================] - 1s 93us/step - loss: 0.2177 - acc: 0.9463 - val_loss: 0.8997 - val_acc: 0.8220\n",
            "Epoch 7/20\n",
            "7982/7982 [==============================] - 1s 91us/step - loss: 0.1892 - acc: 0.9505 - val_loss: 1.0633 - val_acc: 0.7990\n",
            "Epoch 8/20\n",
            "7982/7982 [==============================] - 1s 92us/step - loss: 0.1708 - acc: 0.9535 - val_loss: 1.0800 - val_acc: 0.8000\n",
            "Epoch 9/20\n",
            "7982/7982 [==============================] - 1s 93us/step - loss: 0.1565 - acc: 0.9569 - val_loss: 1.0385 - val_acc: 0.8110\n",
            "Epoch 10/20\n",
            "7982/7982 [==============================] - 1s 91us/step - loss: 0.1442 - acc: 0.9546 - val_loss: 1.0174 - val_acc: 0.8100\n",
            "Epoch 11/20\n",
            "7982/7982 [==============================] - 1s 92us/step - loss: 0.1371 - acc: 0.9562 - val_loss: 1.1267 - val_acc: 0.7920\n",
            "Epoch 12/20\n",
            "7982/7982 [==============================] - 1s 92us/step - loss: 0.1276 - acc: 0.9570 - val_loss: 1.1155 - val_acc: 0.8020\n",
            "Epoch 13/20\n",
            "7982/7982 [==============================] - 1s 90us/step - loss: 0.1256 - acc: 0.9545 - val_loss: 1.1169 - val_acc: 0.8040\n",
            "Epoch 14/20\n",
            "7982/7982 [==============================] - 1s 90us/step - loss: 0.1219 - acc: 0.9555 - val_loss: 1.1728 - val_acc: 0.7990\n",
            "Epoch 15/20\n",
            "7982/7982 [==============================] - 1s 90us/step - loss: 0.1214 - acc: 0.9568 - val_loss: 1.1698 - val_acc: 0.7990\n",
            "Epoch 16/20\n",
            "7982/7982 [==============================] - 1s 91us/step - loss: 0.1141 - acc: 0.9590 - val_loss: 1.1946 - val_acc: 0.7930\n",
            "Epoch 17/20\n",
            "7982/7982 [==============================] - 1s 92us/step - loss: 0.1108 - acc: 0.9575 - val_loss: 1.2074 - val_acc: 0.7950\n",
            "Epoch 18/20\n",
            "7982/7982 [==============================] - 1s 95us/step - loss: 0.1099 - acc: 0.9565 - val_loss: 1.1677 - val_acc: 0.8040\n",
            "Epoch 19/20\n",
            "7982/7982 [==============================] - 1s 89us/step - loss: 0.1064 - acc: 0.9574 - val_loss: 1.1772 - val_acc: 0.7990\n",
            "Epoch 20/20\n",
            "7982/7982 [==============================] - 1s 96us/step - loss: 0.1031 - acc: 0.9578 - val_loss: 1.2234 - val_acc: 0.8020\n"
          ],
          "name": "stdout"
        },
        {
          "output_type": "execute_result",
          "data": {
            "text/plain": [
              "<keras.callbacks.History at 0x7f93bbc307b8>"
            ]
          },
          "metadata": {
            "tags": []
          },
          "execution_count": 28
        }
      ]
    },
    {
      "cell_type": "code",
      "metadata": {
        "id": "E977KnkV3A9f",
        "colab_type": "code",
        "colab": {
          "base_uri": "https://localhost:8080/",
          "height": 746
        },
        "outputId": "450f5fdc-d42e-4a7f-bcf7-2253f19fca38"
      },
      "source": [
        "model = models.Sequential()\n",
        "model.add(layers.Dense(128, activation='relu', input_shape=(10000,)))\n",
        "model.add(layers.Dense(128, activation='relu'))\n",
        "model.add(layers.Dense(46, activation='softmax'))\n",
        "\n",
        "model.compile(optimizer='rmsprop',\n",
        "              loss='categorical_crossentropy',\n",
        "              metrics=['accuracy'])\n",
        "model.fit(partial_x_train,\n",
        "          partial_y_train,\n",
        "          epochs=20,\n",
        "          batch_size=128,\n",
        "          validation_data=(x_val, y_val))"
      ],
      "execution_count": 29,
      "outputs": [
        {
          "output_type": "stream",
          "text": [
            "Train on 7982 samples, validate on 1000 samples\n",
            "Epoch 1/20\n",
            "7982/7982 [==============================] - 1s 137us/step - loss: 1.5761 - acc: 0.6580 - val_loss: 1.0968 - val_acc: 0.7510\n",
            "Epoch 2/20\n",
            "7982/7982 [==============================] - 1s 100us/step - loss: 0.7796 - acc: 0.8294 - val_loss: 0.9494 - val_acc: 0.8010\n",
            "Epoch 3/20\n",
            "7982/7982 [==============================] - 1s 98us/step - loss: 0.4636 - acc: 0.8994 - val_loss: 0.8641 - val_acc: 0.8170\n",
            "Epoch 4/20\n",
            "7982/7982 [==============================] - 1s 99us/step - loss: 0.3017 - acc: 0.9337 - val_loss: 0.8818 - val_acc: 0.8200\n",
            "Epoch 5/20\n",
            "7982/7982 [==============================] - 1s 95us/step - loss: 0.2261 - acc: 0.9456 - val_loss: 0.9584 - val_acc: 0.8040\n",
            "Epoch 6/20\n",
            "7982/7982 [==============================] - 1s 100us/step - loss: 0.1922 - acc: 0.9503 - val_loss: 0.9617 - val_acc: 0.8110\n",
            "Epoch 7/20\n",
            "7982/7982 [==============================] - 1s 98us/step - loss: 0.1686 - acc: 0.9530 - val_loss: 1.0827 - val_acc: 0.7870\n",
            "Epoch 8/20\n",
            "7982/7982 [==============================] - 1s 99us/step - loss: 0.1506 - acc: 0.9545 - val_loss: 0.9711 - val_acc: 0.8130\n",
            "Epoch 9/20\n",
            "7982/7982 [==============================] - 1s 97us/step - loss: 0.1411 - acc: 0.9550 - val_loss: 1.0332 - val_acc: 0.8000\n",
            "Epoch 10/20\n",
            "7982/7982 [==============================] - 1s 98us/step - loss: 0.1299 - acc: 0.9562 - val_loss: 1.0019 - val_acc: 0.8100\n",
            "Epoch 11/20\n",
            "7982/7982 [==============================] - 1s 98us/step - loss: 0.1234 - acc: 0.9551 - val_loss: 1.0264 - val_acc: 0.8170\n",
            "Epoch 12/20\n",
            "7982/7982 [==============================] - 1s 97us/step - loss: 0.1147 - acc: 0.9557 - val_loss: 1.0474 - val_acc: 0.8150\n",
            "Epoch 13/20\n",
            "7982/7982 [==============================] - 1s 92us/step - loss: 0.1106 - acc: 0.9540 - val_loss: 1.1376 - val_acc: 0.8060\n",
            "Epoch 14/20\n",
            "7982/7982 [==============================] - 1s 93us/step - loss: 0.1055 - acc: 0.9546 - val_loss: 1.1220 - val_acc: 0.8040\n",
            "Epoch 15/20\n",
            "7982/7982 [==============================] - 1s 96us/step - loss: 0.0990 - acc: 0.9564 - val_loss: 1.1618 - val_acc: 0.8030\n",
            "Epoch 16/20\n",
            "7982/7982 [==============================] - 1s 95us/step - loss: 0.0960 - acc: 0.9578 - val_loss: 1.2676 - val_acc: 0.7970\n",
            "Epoch 17/20\n",
            "7982/7982 [==============================] - 1s 93us/step - loss: 0.0916 - acc: 0.9555 - val_loss: 1.2426 - val_acc: 0.8070\n",
            "Epoch 18/20\n",
            "7982/7982 [==============================] - 1s 92us/step - loss: 0.0889 - acc: 0.9570 - val_loss: 1.3253 - val_acc: 0.7970\n",
            "Epoch 19/20\n",
            "7982/7982 [==============================] - 1s 94us/step - loss: 0.0861 - acc: 0.9560 - val_loss: 1.3308 - val_acc: 0.7990\n",
            "Epoch 20/20\n",
            "7982/7982 [==============================] - 1s 91us/step - loss: 0.0822 - acc: 0.9585 - val_loss: 1.3863 - val_acc: 0.8000\n"
          ],
          "name": "stdout"
        },
        {
          "output_type": "execute_result",
          "data": {
            "text/plain": [
              "<keras.callbacks.History at 0x7f93bbf81cf8>"
            ]
          },
          "metadata": {
            "tags": []
          },
          "execution_count": 29
        }
      ]
    },
    {
      "cell_type": "code",
      "metadata": {
        "id": "gGhJZa_-3JAS",
        "colab_type": "code",
        "colab": {
          "base_uri": "https://localhost:8080/",
          "height": 746
        },
        "outputId": "fd03080f-d7db-47bc-cddc-61a3032611a7"
      },
      "source": [
        "model = models.Sequential()\n",
        "model.add(layers.Dense(64, activation='relu', input_shape=(10000,)))\n",
        "model.add(layers.Dense(4, activation='relu'))\n",
        "model.add(layers.Dense(4, activation='relu'))\n",
        "model.add(layers.Dense(4, activation='relu'))\n",
        "model.add(layers.Dense(46, activation='softmax'))\n",
        "\n",
        "model.compile(optimizer='rmsprop',\n",
        "              loss='categorical_crossentropy',\n",
        "              metrics=['accuracy'])\n",
        "model.fit(partial_x_train,\n",
        "          partial_y_train,\n",
        "          epochs=20,\n",
        "          batch_size=128,\n",
        "          validation_data=(x_val, y_val))"
      ],
      "execution_count": 30,
      "outputs": [
        {
          "output_type": "stream",
          "text": [
            "Train on 7982 samples, validate on 1000 samples\n",
            "Epoch 1/20\n",
            "7982/7982 [==============================] - 1s 143us/step - loss: 3.1741 - acc: 0.4523 - val_loss: 2.4802 - val_acc: 0.5060\n",
            "Epoch 2/20\n",
            "7982/7982 [==============================] - 1s 93us/step - loss: 2.1994 - acc: 0.5065 - val_loss: 1.9630 - val_acc: 0.5290\n",
            "Epoch 3/20\n",
            "7982/7982 [==============================] - 1s 95us/step - loss: 1.8569 - acc: 0.5243 - val_loss: 1.7998 - val_acc: 0.5410\n",
            "Epoch 4/20\n",
            "7982/7982 [==============================] - 1s 95us/step - loss: 1.7106 - acc: 0.5342 - val_loss: 1.7514 - val_acc: 0.5400\n",
            "Epoch 5/20\n",
            "7982/7982 [==============================] - 1s 92us/step - loss: 1.6199 - acc: 0.5405 - val_loss: 1.7032 - val_acc: 0.5460\n",
            "Epoch 6/20\n",
            "7982/7982 [==============================] - 1s 95us/step - loss: 1.5583 - acc: 0.5455 - val_loss: 1.6755 - val_acc: 0.5490\n",
            "Epoch 7/20\n",
            "7982/7982 [==============================] - 1s 94us/step - loss: 1.5105 - acc: 0.5480 - val_loss: 1.6575 - val_acc: 0.5500\n",
            "Epoch 8/20\n",
            "7982/7982 [==============================] - 1s 95us/step - loss: 1.4704 - acc: 0.5514 - val_loss: 1.6513 - val_acc: 0.5510\n",
            "Epoch 9/20\n",
            "7982/7982 [==============================] - 1s 91us/step - loss: 1.4389 - acc: 0.5547 - val_loss: 1.6558 - val_acc: 0.5550\n",
            "Epoch 10/20\n",
            "7982/7982 [==============================] - 1s 96us/step - loss: 1.4110 - acc: 0.5555 - val_loss: 1.6789 - val_acc: 0.5600\n",
            "Epoch 11/20\n",
            "7982/7982 [==============================] - 1s 96us/step - loss: 1.3829 - acc: 0.5560 - val_loss: 1.6807 - val_acc: 0.5710\n",
            "Epoch 12/20\n",
            "7982/7982 [==============================] - 1s 92us/step - loss: 1.3632 - acc: 0.5584 - val_loss: 1.6989 - val_acc: 0.5730\n",
            "Epoch 13/20\n",
            "7982/7982 [==============================] - 1s 92us/step - loss: 1.3399 - acc: 0.5624 - val_loss: 1.7134 - val_acc: 0.5760\n",
            "Epoch 14/20\n",
            "7982/7982 [==============================] - 1s 91us/step - loss: 1.3229 - acc: 0.5646 - val_loss: 1.7338 - val_acc: 0.5780\n",
            "Epoch 15/20\n",
            "7982/7982 [==============================] - 1s 93us/step - loss: 1.3028 - acc: 0.5715 - val_loss: 1.7258 - val_acc: 0.5810\n",
            "Epoch 16/20\n",
            "7982/7982 [==============================] - 1s 110us/step - loss: 1.2842 - acc: 0.5760 - val_loss: 1.7596 - val_acc: 0.5820\n",
            "Epoch 17/20\n",
            "7982/7982 [==============================] - 1s 92us/step - loss: 1.2662 - acc: 0.5901 - val_loss: 1.7774 - val_acc: 0.5820\n",
            "Epoch 18/20\n",
            "7982/7982 [==============================] - 1s 90us/step - loss: 1.2478 - acc: 0.6005 - val_loss: 1.7785 - val_acc: 0.5910\n",
            "Epoch 19/20\n",
            "7982/7982 [==============================] - 1s 93us/step - loss: 1.2284 - acc: 0.6089 - val_loss: 1.8099 - val_acc: 0.5910\n",
            "Epoch 20/20\n",
            "7982/7982 [==============================] - 1s 90us/step - loss: 1.2118 - acc: 0.6175 - val_loss: 1.8315 - val_acc: 0.5750\n"
          ],
          "name": "stdout"
        },
        {
          "output_type": "execute_result",
          "data": {
            "text/plain": [
              "<keras.callbacks.History at 0x7f93bb69bc88>"
            ]
          },
          "metadata": {
            "tags": []
          },
          "execution_count": 30
        }
      ]
    },
    {
      "cell_type": "code",
      "metadata": {
        "id": "uITjUhPQ3U-w",
        "colab_type": "code",
        "colab": {}
      },
      "source": [
        ""
      ],
      "execution_count": 0,
      "outputs": []
    }
  ]
}